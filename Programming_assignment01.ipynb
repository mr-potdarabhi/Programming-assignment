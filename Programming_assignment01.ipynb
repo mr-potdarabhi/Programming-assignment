{
  "nbformat": 4,
  "nbformat_minor": 0,
  "metadata": {
    "colab": {
      "provenance": [],
      "collapsed_sections": []
    },
    "kernelspec": {
      "name": "python3",
      "display_name": "Python 3"
    },
    "language_info": {
      "name": "python"
    }
  },
  "cells": [
    {
      "cell_type": "markdown",
      "source": [
        " 1.Write a Python program to print &quot;Hello Python&quot;?"
      ],
      "metadata": {
        "id": "X5BWynqX3Z7w"
      }
    },
    {
      "cell_type": "code",
      "execution_count": 15,
      "metadata": {
        "colab": {
          "base_uri": "https://localhost:8080/",
          "height": 0
        },
        "id": "HHYzAWRY3YKD",
        "outputId": "d91749dc-57ad-4828-bdc5-88777ca4ee06"
      },
      "outputs": [
        {
          "output_type": "stream",
          "name": "stdout",
          "text": [
            "hello Python\n"
          ]
        }
      ],
      "source": [
        "print(\"hello Python\")"
      ]
    },
    {
      "cell_type": "markdown",
      "source": [
        " 2.Write a Python program to do arithmetical operations addition and division.?"
      ],
      "metadata": {
        "id": "Zrxavfpk3w4h"
      }
    },
    {
      "cell_type": "code",
      "source": [
        "a=10\n",
        "b=20\n",
        "\n",
        "print(f\"\"\"\n",
        "value of a= {a}\n",
        "value of b= {b}\n",
        "the addition of a+b ={a+b}\n",
        "the division of a/b ={a/b}\"\"\")"
      ],
      "metadata": {
        "colab": {
          "base_uri": "https://localhost:8080/",
          "height": 0
        },
        "id": "LgvRw5pB4CF-",
        "outputId": "9946fde8-e4f5-49d8-8af4-4e6145eaa1ec"
      },
      "execution_count": 16,
      "outputs": [
        {
          "output_type": "stream",
          "name": "stdout",
          "text": [
            "\n",
            "value of a= 10\n",
            "value of b= 20\n",
            "the addition of a+b =30\n",
            "the division of a/b =0.5\n"
          ]
        }
      ]
    },
    {
      "cell_type": "markdown",
      "source": [
        "3.Write a Python program to find the area of a triangle?\n"
      ],
      "metadata": {
        "id": "lxMP-PwN4wrX"
      }
    },
    {
      "cell_type": "code",
      "source": [
        "\n",
        "a = 5\n",
        "b = 6\n",
        "c = 7\n",
        "\n",
        "# Uncomment below to take inputs from the user\n",
        "# a = float(input('Enter first side: '))\n",
        "# b = float(input('Enter second side: '))\n",
        "# c = float(input('Enter third side: '))\n",
        "\n",
        "# calculate the semi-perimeter\n",
        "s = (a + b + c) / 2\n",
        "\n",
        "# calculate the area\n",
        "area = (s*(s-a)*(s-b)*(s-c)) ** 0.5\n",
        "print('The area of the triangle is %0.2f' %area)\n",
        "\n"
      ],
      "metadata": {
        "id": "MxfpGXkF44Rl",
        "colab": {
          "base_uri": "https://localhost:8080/",
          "height": 0
        },
        "outputId": "9da9980c-bee1-4048-dd1f-8f9e2e9b6ed1"
      },
      "execution_count": 17,
      "outputs": [
        {
          "output_type": "stream",
          "name": "stdout",
          "text": [
            "The area of the triangle is 14.70\n"
          ]
        }
      ]
    },
    {
      "cell_type": "markdown",
      "source": [
        "4.Write a Python program to swap two variables?"
      ],
      "metadata": {
        "id": "bZACVaag44Eo"
      }
    },
    {
      "cell_type": "code",
      "source": [
        "A=55\n",
        "print(f\"the before swaping value of A :{A}\")\n",
        "B=66\n",
        "print(f\"the before swaping value of B :{B}\")\n",
        "temp=A\n",
        "A=B\n",
        "B=temp\n",
        "print(f\"\"\" the swaping value of A:{A}\n",
        "the swaping value of B: {B}\"\"\")"
      ],
      "metadata": {
        "colab": {
          "base_uri": "https://localhost:8080/",
          "height": 0
        },
        "id": "lNde1kEF6DqY",
        "outputId": "6e1756a4-41da-4385-fd97-80648ac73beb"
      },
      "execution_count": 18,
      "outputs": [
        {
          "output_type": "stream",
          "name": "stdout",
          "text": [
            "the before swaping value of A :55\n",
            "the before swaping value of B :66\n",
            " the swaping value of A:66\n",
            "the swaping value of B: 55\n"
          ]
        }
      ]
    },
    {
      "cell_type": "markdown",
      "source": [
        "5.Write a Python program to generate a random number?"
      ],
      "metadata": {
        "id": "MnVSvGCxAftE"
      }
    },
    {
      "cell_type": "code",
      "source": [
        "import random\n",
        "\n",
        "num=random.randint(20,30)\n",
        "\n",
        "print(num)\n"
      ],
      "metadata": {
        "colab": {
          "base_uri": "https://localhost:8080/",
          "height": 0
        },
        "id": "CbTyCCHY6N0y",
        "outputId": "d071e59c-bc56-4828-cc01-5b5243e05235"
      },
      "execution_count": 19,
      "outputs": [
        {
          "output_type": "stream",
          "name": "stdout",
          "text": [
            "20\n"
          ]
        }
      ]
    }
  ]
}